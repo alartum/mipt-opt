{
 "cells": [
  {
   "cell_type": "markdown",
   "metadata": {},
   "source": [
    "## Домашнее задание 8\n",
    "\n",
    "1. Найти $f^*(y)$, если $f(x) = -\\dfrac{1}{x}, \\;\\; x\\in \\mathbb{R}_{++}$\n",
    "1. Найти $f^*(y)$, если $f(x) = -0,5 - \\log x, \\;\\; x>0$\n",
    "1. Найти $f^*(y)$, если $f(x) = \\log \\left( \\sum\\limits_{i=1}^n e^{x_i} \\right)$\n",
    "1. Найти $f^*(y)$, если $f(x) = - (a^2 - x^2)^{1/2}, \\;\\;\\; |x| \\le a, \\;\\;\\; a>0$"
   ]
  },
  {
   "cell_type": "markdown",
   "metadata": {},
   "source": [
    "## 1\n",
    "\n",
    "$$ f^*(y) = \\sup_{x \\in \\mathbb{R_{++}}}(\\langle y, x\\rangle - f(x))$$\n",
    "\n",
    "Рассмотрим:\n",
    "\n",
    "$$ g(x, y) = xy + \\frac{1}{x}$$\n",
    "\n",
    "Она должна быть ограничена сверху как функция $x$ при заданном $y$. Но для любого $y$:\n",
    "$$ g(x, y) = xy + \\frac{1}{x} \\xrightarrow{ x \\to +0 } +\\infty$$ \n",
    "\n",
    "Значит, $\\mathbf{dom}\\; f^*(y) = \\emptyset$"
   ]
  },
  {
   "cell_type": "markdown",
   "metadata": {},
   "source": [
    "## 2\n",
    "\n",
    "Везде считаем $x > 0$. Рассмотрим:\n",
    "\n",
    "$$ g(x, y) = xy + \\frac{1}{2} + \\log x$$\n",
    "\n",
    "Она должна быть ограничена сверху как функция $x$ при заданном $y$. Но для любого $y \\ge 0$:\n",
    "$$ g(x, y) = xy + \\frac{1}{2} + \\log x \\xrightarrow{ x \\to +\\infty } +\\infty$$ \n",
    "\n",
    "Значит, рассмотрим $y \\le 0$. Тогда покажем, что у неё есть единственная точка максимума:\n",
    "\n",
    "$$\\frac{\\partial }{\\partial x} g(x, y) = y + \\frac{1}{x} = 0$$\n",
    "\n",
    "$$ x = -\\frac{1}{y}$$\n",
    "\n",
    "Так как это единственный ноль производной, причём в нём она меняет знак с '+' на '-', то это единственный максимум. Тогда:\n",
    "\n",
    "$$ f^*(y) = \\sup_{x \\in \\mathbb{R_{++}}}(\\langle y, x\\rangle - f(x)) = -1 + \\frac{1}{2} - \\log(-y) = -\\frac{1}{2}- \\log(-y) $$\n",
    "\n",
    "Итак, \n",
    "\n",
    "$$\\mathbf{dom}\\; f^*(y) = \\mathbb{R}_{--}$$\n",
    "$$ f^*(y) = -\\frac{1}{2}- \\log(-y) $$"
   ]
  },
  {
   "cell_type": "markdown",
   "metadata": {},
   "source": [
    "## 3\n",
    "\n",
    "Покажем, что функция выпуклая:\n",
    "\n",
    "$$f(x) = \\log \\left( \\sum\\limits_{i=1}^n e^{x_i} \\right) = \\log g(x)$$\n",
    "\n",
    "$$\\frac{\\partial}{\\partial x_k } f(x) = \\frac{e^{x_k}}{g(x)} \n",
    "$$\n",
    "\n",
    "$$\\frac{\\partial^2}{\\partial x_k \\partial x_m} f(x) = \\delta_{km}\\frac{e^{x_k}}{g(x)} - \\frac{e^{x_k + x_m}}{g^2(x)} \n",
    "$$\n",
    "\n",
    "Обозначим через $g$ столбец $(e^{x_1}, \\dotsc, e^{x_k})$, через $\\mathbf{1}$ -- столбец $(1, \\dotsc, 1)$. Тогда гессиан перепишется в виде:\n",
    "\n",
    "$$\\nabla^2 f(x) = \\frac{(\\mathbf{1}^Tg) \\mathbf{diag}(g) - g g^T}{(\\mathbf{1}^Tg)^2}$$\n",
    "\n",
    "Для всех $u$ покажем:\n",
    "\n",
    "$$u^T \\nabla^2 f(x) u \\ge 0$$\n",
    "\n",
    "$$\\nabla^2 f(x) = \\frac{(\\mathbf{1}^Tg) u^T\\mathbf{diag}(g) u - u^T g g^T u}{(\\mathbf{1}^Tg)^2}$$\n",
    "\n",
    "$$\\nabla^2 f(x) = \\frac{(\\mathbf{1}^Tg) (g^T u_2) - (g^T u)^2}{(\\mathbf{1}^Tg)^2}$$,\n",
    "\n",
    "через $u_2$ обозначен слолбец $(u_1^2, \\dotsc, u_k^2)$. Но из КБШ:\n",
    "\n",
    "$$(\\mathbf{1}^Tg) (g^T u_2) \\ge (g^T u)^2 $$\n",
    "\n",
    "$$g_{\\frac{1}{2}}^2 (g_{\\frac{1}{2}}\\times u)^2 \\ge (g_{\\frac{1}{2}}^T  (g_{\\frac{1}{2}} \\times u))^2 $$\n",
    "\n",
    "где $g_{\\frac{1}{2}}$ обозначает столбец $(\\sqrt{g_1}, \\dotsc, \\sqrt{g_k})$, а символ $\\times$ -- покомпонентное умножение: $(a_1, \\dotsc, a_m) \\times (b_1, \\dotsc, b_m) = (a_1b_1, \\dotsc, a_mb_m)$\n",
    "\n",
    "Тогда \n",
    "\n",
    "$$\n",
    "f^*(y) = \\langle y, z \\rangle - f(z), \\;\\;\\;\\;\\;\\; y = \\nabla f(z), \\;\\; z \\in \\mathbb{R}^n\n",
    "$$\n",
    "\n",
    "$$ \\nabla f(z) = \\frac{g(z)}{\\mathbf{1}^Tg(z)},\\;\\; g(z) = (e^{z_1}, \\dotsc, e^{z_k})$$\n",
    "\n",
    "Отсюда сразу $y_i \\in (0, 1]$"
   ]
  },
  {
   "cell_type": "markdown",
   "metadata": {},
   "source": [
    "## 4\n",
    "\n",
    "$f(x) = - (a^2 - x^2)^{1/2}, \\;\\;\\; |x| \\le a, \\;\\;\\; a>0$\n",
    "\n",
    "Рассмотрим:\n",
    "\n",
    "$$ g(x, y) = xy + (a^2 - x^2)^{1/2}$$\n",
    "\n",
    "Рассматривая как функцию $x$ при фиксированном $y$:\n",
    "\n",
    "$$\\frac{\\partial }{\\partial x} g(x, y) = y - \\frac{x}{\\sqrt{a^2 - x^2}} = 0$$\n",
    "\n",
    "$$ y = \\frac{x}{\\sqrt{a^2 - x^2}}$$\n",
    "\n",
    "Заметим, что знаки $x$ и $y$ совпадают.\n",
    "\n",
    "$$ y^2 (a^2 - x^2) = x^2$$\n",
    "\n",
    "$$ x^2 = \\frac{(ay)^2}{y^2 + 1}$$\n",
    "\n",
    "Учитывая знак:\n",
    "\n",
    "$$ x = a \\ \\mathbf{sign}\\ y \\frac{|y|}{\\sqrt{1+y^2}}$$\n",
    "\n",
    "Нашли единственный ноль, причём производная в нём меняет знак с + на -, так что это максимум. Значит,  \n",
    "\n",
    "$$\\mathbf{dom}\\; f^*(y) = \\mathbb{R}$$\n",
    "$$ f^*(y) = a  \\frac{y^2}{\\sqrt{1+y^2}} + \\sqrt{a^2 - \\frac{(ay)^2}{y^2 + 1}} $$\n",
    "\n",
    "$$ f^*(y) = a  \\frac{y^2}{\\sqrt{1+y^2}} + a \\frac{1}{\\sqrt{y^2 + 1}} $$\n",
    "\n",
    "$$ f^*(y) = a  \\sqrt{y^2 + 1} $$"
   ]
  }
 ],
 "metadata": {
  "kernelspec": {
   "display_name": "Python 3",
   "language": "python",
   "name": "python3"
  },
  "language_info": {
   "codemirror_mode": {
    "name": "ipython",
    "version": 3
   },
   "file_extension": ".py",
   "mimetype": "text/x-python",
   "name": "python",
   "nbconvert_exporter": "python",
   "pygments_lexer": "ipython3",
   "version": "3.6.4"
  },
  "latex_envs": {
   "LaTeX_envs_menu_present": true,
   "autocomplete": true,
   "bibliofile": "biblio.bib",
   "cite_by": "apalike",
   "current_citInitial": 1,
   "eqLabelWithNumbers": true,
   "eqNumInitial": 1,
   "hotkeys": {
    "equation": "Ctrl-E",
    "itemize": "Ctrl-I"
   },
   "labels_anchors": false,
   "latex_user_defs": false,
   "report_style_numbering": false,
   "user_envs_cfg": false
  },
  "toc": {
   "nav_menu": {},
   "number_sections": true,
   "sideBar": true,
   "skip_h1_title": false,
   "title_cell": "Table of Contents",
   "title_sidebar": "Contents",
   "toc_cell": false,
   "toc_position": {},
   "toc_section_display": true,
   "toc_window_display": false
  },
  "varInspector": {
   "cols": {
    "lenName": 16,
    "lenType": 16,
    "lenVar": 40
   },
   "kernels_config": {
    "python": {
     "delete_cmd_postfix": "",
     "delete_cmd_prefix": "del ",
     "library": "var_list.py",
     "varRefreshCmd": "print(var_dic_list())"
    },
    "r": {
     "delete_cmd_postfix": ") ",
     "delete_cmd_prefix": "rm(",
     "library": "var_list.r",
     "varRefreshCmd": "cat(var_dic_list()) "
    }
   },
   "types_to_exclude": [
    "module",
    "function",
    "builtin_function_or_method",
    "instance",
    "_Feature"
   ],
   "window_display": false
  }
 },
 "nbformat": 4,
 "nbformat_minor": 2
}
