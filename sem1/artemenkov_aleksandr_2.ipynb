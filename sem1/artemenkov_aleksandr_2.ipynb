{
 "cells": [
  {
   "cell_type": "markdown",
   "metadata": {},
   "source": [
    "# Задание 2.\n",
    "\n",
    "0. Покажите, что множество афинно тогда и только тогда, когда его пересечение с любой прямой афинно.\n",
    "0. Пусть $S_1, \\ldots, S_k$ - произвольные непустые множества в $\\mathbb{R}^n$. Докажите, что:\n",
    "  0. $ \\mathbf{cone} \\left( \\bigcup\\limits_{i=1}^k S_i\\right) = \\sum\\limits_{i=1}^k \\mathbf{cone} \\left( S_i\\right) $\n",
    "  0. $ \\mathbf{conv} \\left( \\sum\\limits_{i=1}^k S_i\\right) = \\sum\\limits_{i=1}^k \\mathbf{conv} \\left( S_i\\right) $\n",
    "0. Докажите, что множество $S \\subseteq \\mathbb{R}^n$ выпукло тогда и только тогда, когда $(\\alpha + \\beta)S = \\alpha S + \\beta S$ для всех неотрицательных $\\alpha$ и $\\beta$\n",
    "0. Пусть $x \\in \\mathbb{R}$ - случайная величина с заданным вероятностным распределением $\\mathbb{P}(x = a_i) = p_i$, где $i = 1, \\ldots, n$, а $a_1 < \\ldots < a_n$. Говорят, что вектор вероятностей исходов $p \\in \\mathbb{R}^n$ принадлежит вероятностному симплексу, т.е. $P = \\left\\{ p \\mid \\mathbf{1}^Tp = 1, p \\succeq 0\\right\\} = \\left\\{ p \\mid p_1 + \\ldots + p_n = 1, p_i \\ge 0 \\right\\}$.     \n",
    "  \n",
    "  Определите, выпукло ли множество таких $p$, которые удовлетворяют условию:\n",
    "    \n",
    "  0. $\\mathbb{P}(x > \\alpha) \\le \\beta$\n",
    "  0. $\\mathbb{E} |x^{2017}| \\le \\alpha \\mathbb{E}|x|$\n",
    "  0. $\\mathbb{E} |x^{2}| \\ge \\alpha $\n",
    "  0. $\\mathbb{V}x \\ge \\alpha$\n"
   ]
  },
  {
   "cell_type": "markdown",
   "metadata": {},
   "source": [
    "# 1\n",
    "\n",
    " Множество $A$ называется афинным, если для любых $x_1, x_2$ из $A$ прямая, проходящая через них также лежит в $A$, т.е. $$\\forall \\theta \\in \\mathbb{R}, \\forall x_1, x_2 \\in A: \\theta x_1 + (1- \\theta) x_2 \\in A$$\n",
    " \n",
    " ( $ \\rightarrow $ ) Пусть множество афинно. Тогда пересечение его с любой прямой афинно. Действительно, найдутся $ x_1, x_2 \\in l \\cap A $ ($l$ -- прямая), так что $ l \\in A$ по определению, а прямая -- афинное множество. Если $|l \\cap A| = 1$, то множество афинно по определению.\n",
    " \n",
    " ( $ \\leftarrow $ ) Пусть пересечение множества с любой прямой афинно. Покажем, что оно само афинно. Действительно, возьмём пару точек $x_1, x_2 \\in A$ и проведём через них прямую $l$. Тогда $ l \\cap A$ -- афинно, но $l \\cap A \\subseteq l$, а если из прямой $ l $ удалить хоть одну точку, то она перестанет быть афинным множеством. Так что $l \\cap A = l$. Но тогда множество $A$ содержит вместе с любой парой точек и прямую, через них проходящую, значит, само является афинным."
   ]
  },
  {
   "cell_type": "markdown",
   "metadata": {},
   "source": [
    "# 2\n",
    "\n",
    "## A\n",
    "\n",
    "Произвольный элемент слева $y_l \\in \\mathbf{cone} \\left( \\bigcup\\limits_{i=1}^k S_i\\right) $ записывается как $ y_l = \\sum\\limits_{i=1}^k \\sum\\limits_{j \\in \\mathcal A_i} \\theta_{i, j} x_{i, j}, \\theta_{i, j} \\ge 0$, где $\\mathcal A_i$ -- некоторое индексное множество множества $S_i$. Произвольный элемент справа записыватся как $y_r = \\sum\\limits_{i=1}^k \\sum\\limits_{j \\in \\mathcal A'_i} \\theta'_{i, j} x_{i, j}, \\theta_{i, j} \\ge 0$. Ясно, что $y_l = y_r$ при $\\theta_{i, j} = \\theta'_{i, j}, \\mathcal A'_i = \\mathcal A_i$, так что выполнено как $ \\mathbf{cone} \\left( \\bigcup\\limits_{i=1}^k S_i\\right) \\subseteq \\sum\\limits_{i=1}^k \\mathbf{cone} \\left( S_i\\right) $, так и $ \\mathbf{cone} \\left( \\bigcup\\limits_{i=1}^k S_i\\right) \\supseteq \\sum\\limits_{i=1}^k \\mathbf{cone} \\left( S_i\\right) $. Что и требовалось.\n",
    "\n",
    "## B\n",
    "\n",
    "Произвольный элемент слева имеет вид $y_l = \\sum\\limits_{j = 1}^n \\theta_j \\sum\\limits_{i=1}^k x_{i, j}, \\sum\\limits_{j=1}^n\\theta_j = 1, \\theta_i \\ge 0$ ($i$ бегает внутри множеств $S$). Считаем, что в выпуклой комбинации для $y_l$ участвует $n$ точек из суммы, хотя в общем случае можно итерировать по индексному множеству, которое не обязательно конечно. Элемент справа выражается как $y_r = \\sum\\limits_{i=1}^k \\sum\\limits_{j \\in \\mathcal A_i} \\theta'_{i, j} x_{i, j}, \\sum\\limits_{j \\in \\mathcal A_i} \\theta'_{i, j} = 1, \\theta'_{i, j} \\ge 0$. Преобразуя: $y_l = \\sum\\limits_{i=1}^k  \\sum\\limits_{j = 1}^n  \\theta_j x_{i, j}, \\sum\\limits_{j=1}^n\\theta_j = 1, \\theta_i \\ge 0$. Откуда равенство $y_r = y_l$ выполнено при $\\theta'_{i, j} = \\theta_j, \\mathcal A_i = \\overline{1, n}$, где под равенством индексных множеств подразумевается, что они перечисляют одинаковые элементы. Покажем, что выполнено и обратное. Докажем это для двух множеств, на конечное число это распространится по индукции. Т.е. необходимо показать\n",
    "\n",
    "$$\\mathbf{conv} (A+B) \\supseteq \\mathbf{conv} (A) + \\mathbf{conv} (B)$$\n",
    "\n",
    "Докажем вспомогательное утверждение: пусть $A + B \\subseteq C$, тогда $\\mathbf{conv} (A) + B \\subseteq \\mathbf{conv} (C)$. Т.е. покажем, что:\n",
    "\n",
    "$$\\forall \\theta_1, \\dotsc, \\theta_n,\\, a_1, \\dotsc, a_n \\in A,\\, b \\in B \\quad \\exists c_1, \\dotsc, c_k \\in C: \\quad \\sum \\limits_{i=1}^n \\theta_i a_i + b = \\sum \\limits_{i=1}^k \\lambda_i c_i,\\quad \\sum \\limits_{i=1}^n \\theta_i = 1,\\, \\theta_i \\in [0,1],\\quad \\sum \\limits_{i=1}^k \\lambda_i,\\, \\lambda_i \\in [0, 1]$$\n",
    "\n",
    "Зная, что \n",
    "\n",
    "$$\\forall a \\in A,\\, b \\in B \\quad \\exists c \\in C: a + b = c$$\n",
    "\n",
    "Тогда просто перепишем требуемое (т.к. $\\sum \\limits_{i=1}^n \\theta_i = 1$) в виде:\n",
    "\n",
    "$$ \\sum \\limits_{i=1}^n \\theta_i a_i + b = \\sum \\limits_{i=1}^n \\theta_i (a_i + b) = \\sum \\limits_{i=1}^n \\theta_i c'_i = \\sum \\limits_{i=1}^k \\lambda_i c_i, \\quad c'_i \\in C$$\n",
    "\n",
    "Достаточно взять $\\lambda_i = \\theta_i$, $c_i = c'_i$ и $n=k$.\n",
    "\n",
    "Используя доказанное выше получим, что $\\mathbf{conv} (A) + \\mathbf{conv} (B) \\subseteq \\mathbf{conv} (A + \\mathbf{conv}(B))$. Кроме того, $A+\\mathbf{conv}B \\subseteq \\mathbf{conv}(A+B)$, так что взяв выпуклую оболочку от каждой из частей, получим: $\\mathbf{conv}(A+\\mathbf{conv}B) \\subseteq \\mathbf{conv}(\\mathbf{conv}(A+B)) = \\mathbf{conv}(A+B)$. Значит, \n",
    "\n",
    "$$\\mathbf{conv} (A+B) \\supseteq \\mathbf{conv} (A) + \\mathbf{conv} (B)$$\n",
    "\n",
    "Теперь включение доказано в обе стороны, откуда следует равенство."
   ]
  },
  {
   "cell_type": "markdown",
   "metadata": {},
   "source": [
    "# 3\n",
    "\n",
    "Покажем необходимость. По определению выпуклого множества:\n",
    "$$\\forall \\theta \\in [0,1], \\forall x_1, x_2 \\in C: \\\\ \\theta x_1 + (1- \\theta) x_2 \\in C $$\n",
    "\n",
    "Умножим обе части на $(\\alpha + \\beta)$ и по разному соберём подобные слагаемые, тогда имеет место утверждение:\n",
    "$$\\forall \\theta \\in [0,1], \\forall x_1, x_2 \\in C: \\\\ (\\alpha + \\beta)\\theta x_1 + (\\alpha + \\beta)(1- \\theta) x_2 = \\alpha(\\theta x_1 + (1- \\theta) x_2) + \\beta(\\theta x_1 + (1- \\theta) x_2) \\in \\alpha С + \\beta C $$\n",
    "\n",
    "В обратную сторону должно быть выполнено:\n",
    "$$\\forall x_1, x_2 \\in S \\quad \\exists x_3 \\in S: \\quad \\alpha x_1 + \\beta x_2 = (\\alpha + \\beta)x_3$$\n",
    "Взяв $x_3 = \\frac{\\alpha}{\\alpha+\\beta}x_1 + \\frac{\\beta}{\\alpha+\\beta}x_2$ получим, что $x_3 \\in S$ и удовлетворяет нашему условию.\n",
    "\n",
    "Так что включение доказано в обе стороны, значит, выполнено равенство.\n",
    "\n",
    "Достаточность получим, взяв $\\alpha = \\theta, \\beta = 1 - \\theta$ ($\\theta \\not = 0$, иначе утверждение очевидно). Тогда: $S = \\theta S + (1 - \\theta)S$, так что множество выпуклое."
   ]
  },
  {
   "cell_type": "markdown",
   "metadata": {},
   "source": [
    "# 4\n",
    "\n",
    "A. $\\mathbb{P}(x > \\alpha) = \\sum \\limits_{i=n_0}^n p_i < \\beta$, линейное неравенство. Порождает выпуклое множество, которое в пересечении с симплексом тоже даёт выпуклое.\n",
    "\n",
    "B. $\\mathbb{E} |x^{2017}| \\le \\alpha \\mathbb{E}|x|$\n",
    "   \n",
    "   $\\sum \\limits_{i=1}^{n} p_i a_i^{2017} \\leq \\sum \\limits_{i=1}^{n} p_i a_i$\n",
    "   \n",
    "   Снова линейное неравенство, так что в пересечении с симплексом получим выпуклое множество.\n",
    "\n",
    "C. $\\mathbb{E} |x^{2}| \\ge \\alpha $\n",
    " \n",
    "   $\\sum \\limits_{i=1}^{n} p_i a_i^{2} \\leq \\alpha$\n",
    "   \n",
    "   Линейное неравенство, в пересечении с симплексом получим выпуклое множество.\n",
    "   \n",
    "D. $\\mathbb{V}x \\ge \\alpha $\n",
    "   \n",
    "   Перепишем:\n",
    "    $ \\mathbb{V}x = \\mathbb{E}\\left\\{ (x - \\mathbb{E}x)^2\\right\\} = \\mathbb{E}x^2 - \\left(\\mathbb{E}x\\right)^2 = $\n",
    "    $ \\sum\\limits_{i=1}^n p_i a_i^2 - \\left(\\sum\\limits_{i=1}^n p_i a_i\\right)^2 \\geq \\alpha$\n",
    "    \n",
    "  Покажем, что это множество выпукло. Докажем, что функция $f(x) = (x, a^2) - (x, a)^2$ вогнута. Действительно,\n",
    "  \n",
    "  $$df = (dx, a^2) - 2(x, a)(dx, a)$$\n",
    "  \n",
    "  $$d^2f = -2(dx, a)^2 \\leq 0$$\n",
    "  \n",
    "  Значит, функция невыпукла, то есть:\n",
    "  \n",
    "  $$ f(\\theta x_1 + (1-\\theta)x_2) \\geq \\theta f(x_1) + (1-\\theta) f(x_2)$$\n",
    "  \n",
    "  Значит, для точки из отрезка $[x_1, x_2]$ неравенство выполнено, так что данное множество выпукло. Следовательно, его пересечение с симплексом также выпукло."
   ]
  }
 ],
 "metadata": {
  "kernelspec": {
   "display_name": "Python 3",
   "language": "python",
   "name": "python3"
  },
  "language_info": {
   "codemirror_mode": {
    "name": "ipython",
    "version": 3
   },
   "file_extension": ".py",
   "mimetype": "text/x-python",
   "name": "python",
   "nbconvert_exporter": "python",
   "pygments_lexer": "ipython3",
   "version": "3.6.4"
  }
 },
 "nbformat": 4,
 "nbformat_minor": 2
}
