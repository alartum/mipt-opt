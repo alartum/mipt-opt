{
 "cells": [
  {
   "cell_type": "code",
   "execution_count": 4,
   "metadata": {
    "collapsed": true
   },
   "outputs": [],
   "source": [
    "import numpy as np\n",
    "import matplotlib.pyplot as plt"
   ]
  },
  {
   "cell_type": "code",
   "execution_count": 5,
   "metadata": {
    "collapsed": true
   },
   "outputs": [],
   "source": [
    "def f(x):\n",
    "    return x*np.exp(x) + np.sin(np.exp(x))\n",
    "\n",
    "def split(a, b, t):\n",
    "    return a + t*(b-a)\n",
    "\n",
    "def random_split(a, b):\n",
    "    # Not exactly [0, 1] for better performance\n",
    "    delta = 1e-1\n",
    "    return split(a, b, np.random.uniform(delta, 1 - delta))\n",
    "\n",
    "def optimize(f, a, b, t):\n",
    "    x = split(a, b, t)\n",
    "    fx = f(x)\n",
    "    k = 1\n",
    "    while b - a > eps:\n",
    "        y = split(a, x, t)\n",
    "        fy = f(y)\n",
    "        k += 1\n",
    "        if fy <= fx:\n",
    "            b = x\n",
    "            x = y\n",
    "            fx = fy\n",
    "        else:\n",
    "            z = split(x, b, t)\n",
    "            fz = f(z)\n",
    "            k += 1\n",
    "            if fz <= fx:\n",
    "                a = x\n",
    "                x = z\n",
    "                fx = fz\n",
    "            else:\n",
    "                a = y\n",
    "                b = z\n",
    "    return k\n",
    "\n",
    "def random_optimize(f, a, b, n):\n",
    "    x = random_split(a, b)\n",
    "    fx = f(x)\n",
    "    k = 1\n",
    "    while k <= n:\n",
    "        y = random_split(a, x)\n",
    "        fy = f(y)\n",
    "        k += 1\n",
    "        if fy <= fx:\n",
    "            b = x\n",
    "            x = y\n",
    "            fx = fy\n",
    "        else:\n",
    "            z = random_split(x, b)\n",
    "            fz = f(z)\n",
    "            k += 1\n",
    "            if fz <= fx:\n",
    "                a = x\n",
    "                x = z\n",
    "                fx = fz\n",
    "            else:\n",
    "                a = y\n",
    "                b = z\n",
    "    return fx"
   ]
  },
  {
   "cell_type": "markdown",
   "metadata": {},
   "source": [
    "# Минимум функции\n",
    "\n",
    "Найдём минимум функции $$f(x) = x \\cdot e^x + \\sin e^x, \\ x \\in [-5, 0]$$ с помощью обычной дихотомии."
   ]
  },
  {
   "cell_type": "code",
   "execution_count": null,
   "metadata": {
    "collapsed": true
   },
   "outputs": [],
   "source": [
    "a, b = -5, 0\n",
    "t = 0.5\n",
    "eps = 1e-7\n",
    "\n",
    "def f(x):\n",
    "    return x*np.exp(x) + np.sin(np.exp(x))\n",
    "\n",
    "fig = plt.figure(figsize=(8.5, 6.5))\n",
    "\n",
    "ax = fig.add_subplot(111)\n",
    "\n",
    "xs = np.arange(a, b, 1e-2) \n",
    "ax.plot(xs, f(xs))\n",
    "\n",
    "def split(a, b, t):\n",
    "    return a + t*(b-a)\n",
    "\n",
    "xs = np.arange(a, b, 1e-2) \n",
    "ax.plot(xs, f(xs))\n",
    "\n",
    "fs = []\n",
    "borders = []\n",
    "\n",
    "import math\n",
    "x = split(a, b, t)\n",
    "fx = f(x)\n",
    "# Amount of function calls\n",
    "k = 1\n",
    "\n",
    "borders.append([a, b])\n",
    "while b - a > eps:\n",
    "    fs.append(fx)\n",
    "    borders.append([a, b])\n",
    "    y = split(a, x, t)\n",
    "    fy = f(y)\n",
    "    k += 1\n",
    "    if fy <= fx:\n",
    "        b = x\n",
    "        x = y\n",
    "        fx = fy\n",
    "    else:\n",
    "        z = split(x, b, t)\n",
    "        fz = f(z)\n",
    "        k += 1\n",
    "        if fz <= fx:\n",
    "            a = x\n",
    "            x = z\n",
    "            fx = fz\n",
    "        else:\n",
    "            a = y\n",
    "            b = z\n",
    "print(f\"Function calls: {k}\")\n",
    "print(f\"Error achieved: {b-a}\")\n",
    "print(f\"Minimum: f(x) = {fx:.2} at x = {x:.2}\")\n",
    "\n",
    "for i in range(len(borders)):\n",
    "    ax.plot(borders[i], [0, 0], linewidth=10.0 * (i+1) / len(borders))    \n",
    "\n",
    "ax.scatter(x, fx, s=50)\n",
    "\n",
    "plt.tight_layout()\n",
    "plt.grid()\n",
    "plt.show()"
   ]
  },
  {
   "cell_type": "markdown",
   "metadata": {},
   "source": [
    "# Зависимость от коэффициента пропорциональности\n",
    "\n",
    "Найдём, при биении в каком отношении минимум находится наиболее быстро"
   ]
  },
  {
   "cell_type": "code",
   "execution_count": null,
   "metadata": {
    "collapsed": true
   },
   "outputs": [],
   "source": [
    "a, b = -5, 0\n",
    "eps = 1e-7\n",
    "\n",
    "fig = plt.figure(figsize=(8.5, 6.5))\n",
    "\n",
    "ax = fig.add_subplot(111)\n",
    "ax.set_title(r'Number of iterations depending on $t$ ($\\varepsilon = 10^{-4}$)')\n",
    "ax.set_xlabel(r't $(x_{new} = a + t\\cdot(b-a))$')\n",
    "ax.set_ylabel('Iterations')\n",
    "ts = np.linspace(1e-1, 1 - 1e-1, 1000) \n",
    "ks = [optimize(f, a, b, t) for t in ts]\n",
    "ax.plot(ts[::5], ks[::5])\n",
    "\n",
    "z = np.polyfit(ts, ks, 2)\n",
    "p = np.poly1d(z)\n",
    "pts = p(ts)\n",
    "plt.plot(ts, pts, \"r--\")\n",
    "\n",
    "arg_min = np.argmin(ks)\n",
    "apr_min = np.argmin(pts)\n",
    "print(f\"Minimum iterations done ({ks[arg_min]}) with t = {ts[arg_min]:.2}\")\n",
    "print(f\"Iterations done with t = 0.5:\\t{ks[len(ks)//2]}\")\n",
    "print(f\"Approximated minimum iterations ({int(round(pts[apr_min]))}) \\\n",
    "with t = {ts[apr_min]:.2}\")\n",
    "\n",
    "\n",
    "\n",
    "plt.tight_layout()\n",
    "plt.grid()\n",
    "plt.show()"
   ]
  },
  {
   "cell_type": "markdown",
   "metadata": {},
   "source": [
    "# Случайный выбор коэффициента пропорциональности\n",
    "\n",
    "Всё-таки приводит к хорошим последствиям. В среднем сходится меньше, чем за 15 итераций, что не хуже, чем дихотомия (около 20 итераций для той же точности). Но, чтобы брать среднее, надо прогонять алгоритм несколько раз, плюс, добавляется время на генерацию случаных чисел. Так что данному алгоритму требуется около 30 итераций."
   ]
  },
  {
   "cell_type": "code",
   "execution_count": null,
   "metadata": {
    "collapsed": true
   },
   "outputs": [],
   "source": [
    "a, b = -5, 0\n",
    "\n",
    "fig = plt.figure(figsize=(8.5, 6.5))\n",
    "\n",
    "ax = fig.add_subplot(111)\n",
    "ax.set_title(r'Objective function value depending on iteration number')\n",
    "ax.set_xlabel(r'Iterations')\n",
    "ax.set_ylabel(r'Value')\n",
    "its = np.linspace(0, 30, 30)\n",
    "fs = np.array([[random_optimize(f, a, b, it) for it in its] for i in range(100)])\n",
    "\n",
    "fs_mean = np.mean(fs, axis=0)\n",
    "fs_std = np.std(fs, axis=0)\n",
    "ax.plot(its, fs_mean)\n",
    "ax.fill_between(its, fs_mean - fs_std, fs_mean + fs_std, alpha=0.2)\n",
    "\n",
    "plt.tight_layout()\n",
    "plt.grid()\n",
    "plt.show()"
   ]
  }
 ],
 "metadata": {
  "kernelspec": {
   "display_name": "Python 3",
   "language": "python",
   "name": "python3"
  },
  "language_info": {
   "codemirror_mode": {
    "name": "ipython",
    "version": 3
   },
   "file_extension": ".py",
   "mimetype": "text/x-python",
   "name": "python",
   "nbconvert_exporter": "python",
   "pygments_lexer": "ipython3",
   "version": "3.6.3"
  },
  "latex_envs": {
   "LaTeX_envs_menu_present": true,
   "autocomplete": true,
   "bibliofile": "biblio.bib",
   "cite_by": "apalike",
   "current_citInitial": 1,
   "eqLabelWithNumbers": true,
   "eqNumInitial": 1,
   "hotkeys": {
    "equation": "Ctrl-E",
    "itemize": "Ctrl-I"
   },
   "labels_anchors": false,
   "latex_user_defs": false,
   "report_style_numbering": false,
   "user_envs_cfg": false
  },
  "toc": {
   "nav_menu": {},
   "number_sections": true,
   "sideBar": true,
   "skip_h1_title": false,
   "title_cell": "Table of Contents",
   "title_sidebar": "Contents",
   "toc_cell": false,
   "toc_position": {},
   "toc_section_display": true,
   "toc_window_display": false
  },
  "varInspector": {
   "cols": {
    "lenName": 16,
    "lenType": 16,
    "lenVar": 40
   },
   "kernels_config": {
    "python": {
     "delete_cmd_postfix": "",
     "delete_cmd_prefix": "del ",
     "library": "var_list.py",
     "varRefreshCmd": "print(var_dic_list())"
    },
    "r": {
     "delete_cmd_postfix": ") ",
     "delete_cmd_prefix": "rm(",
     "library": "var_list.r",
     "varRefreshCmd": "cat(var_dic_list()) "
    }
   },
   "oldHeight": 123,
   "position": {
    "height": "296px",
    "left": "998px",
    "right": "28px",
    "top": "119px",
    "width": "340px"
   },
   "types_to_exclude": [
    "module",
    "function",
    "builtin_function_or_method",
    "instance",
    "_Feature"
   ],
   "varInspector_section_display": "block",
   "window_display": false
  }
 },
 "nbformat": 4,
 "nbformat_minor": 2
}
